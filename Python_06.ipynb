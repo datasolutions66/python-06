{
  "nbformat": 4,
  "nbformat_minor": 0,
  "metadata": {
    "colab": {
      "provenance": []
    },
    "kernelspec": {
      "name": "python3",
      "display_name": "Python 3"
    },
    "language_info": {
      "name": "python"
    }
  },
  "cells": [
    {
      "cell_type": "markdown",
      "source": [],
      "metadata": {
        "id": "c8f7Y_09jnmU"
      }
    },
    {
      "cell_type": "markdown",
      "source": [
        "#Summary:=> \n",
        "##Multiline Comments\n",
        "##One Line Comments\n",
        "##Power of 123\n",
        "##Modulo Operator\n",
        "##Data Types\n",
        "##Strong Typing\n",
        "##Formated String or f String\n",
        "##Use of f String\n"
      ],
      "metadata": {
        "id": "2i14M502nRPk"
      }
    },
    {
      "cell_type": "markdown",
      "source": [
        "##Multiline Comments:- Use Tripple Quote"
      ],
      "metadata": {
        "id": "2ZMI-YYynhS8"
      }
    },
    {
      "cell_type": "code",
      "source": [
        "print(\"\"\"Hello\n",
        "Dipanjan\n",
        "Das\n",
        "Good morning\n",
        "to you\"\"\")\n"
      ],
      "metadata": {
        "id": "9GFlbvGjjhU0",
        "colab": {
          "base_uri": "https://localhost:8080/"
        },
        "outputId": "8898405d-e6eb-4168-e59c-807084089230"
      },
      "execution_count": null,
      "outputs": [
        {
          "output_type": "stream",
          "name": "stdout",
          "text": [
            "Hello\n",
            "Dipanjan\n",
            "Das\n",
            "Good morning\n",
            "to you\n"
          ]
        }
      ]
    },
    {
      "cell_type": "code",
      "source": [
        "\"\"\"\n",
        "Hi this \n",
        "is a \n",
        "Multiline Comments\n",
        "\"\"\"\n",
        "print(\"Hi Dipanjan\")"
      ],
      "metadata": {
        "colab": {
          "base_uri": "https://localhost:8080/"
        },
        "id": "-itXno4Yp07s",
        "outputId": "7477e7a7-be48-4ed1-9d9c-1b6b1f4bbd14"
      },
      "execution_count": null,
      "outputs": [
        {
          "output_type": "stream",
          "name": "stdout",
          "text": [
            "Hi Dipanjan\n"
          ]
        }
      ]
    },
    {
      "cell_type": "markdown",
      "source": [
        "##Comments:- One Hash for Single Line"
      ],
      "metadata": {
        "id": "lv2rqx9LozZD"
      }
    },
    {
      "cell_type": "code",
      "source": [
        "#Hi, This is Comments\n",
        "print(\"Read the Comment\")"
      ],
      "metadata": {
        "colab": {
          "base_uri": "https://localhost:8080/"
        },
        "id": "GPWLwvttnxq1",
        "outputId": "de580ea8-1e15-49df-c421-2463d307a32b"
      },
      "execution_count": null,
      "outputs": [
        {
          "output_type": "stream",
          "name": "stdout",
          "text": [
            "Read the Comment\n"
          ]
        }
      ]
    },
    {
      "cell_type": "markdown",
      "source": [
        "##Power of 123"
      ],
      "metadata": {
        "id": "sUDB6OrNrKSc"
      }
    },
    {
      "cell_type": "code",
      "source": [
        "123**2  #Power of 123 raised to 2"
      ],
      "metadata": {
        "colab": {
          "base_uri": "https://localhost:8080/"
        },
        "id": "tWqrNxZepGGk",
        "outputId": "1de9d8a5-daf0-489f-dead-6aa8eaca1b2b"
      },
      "execution_count": null,
      "outputs": [
        {
          "output_type": "execute_result",
          "data": {
            "text/plain": [
              "15129"
            ]
          },
          "metadata": {},
          "execution_count": 9
        }
      ]
    },
    {
      "cell_type": "code",
      "source": [
        "5**2"
      ],
      "metadata": {
        "colab": {
          "base_uri": "https://localhost:8080/"
        },
        "id": "5H73ljJnrU7c",
        "outputId": "245db7fb-08bf-4e25-adec-85a84f1290ad"
      },
      "execution_count": null,
      "outputs": [
        {
          "output_type": "execute_result",
          "data": {
            "text/plain": [
              "25"
            ]
          },
          "metadata": {},
          "execution_count": 10
        }
      ]
    },
    {
      "cell_type": "code",
      "source": [
        "8**2"
      ],
      "metadata": {
        "colab": {
          "base_uri": "https://localhost:8080/"
        },
        "id": "PuYUsCOOrZFj",
        "outputId": "9fcb3c94-5a03-473c-e1a3-47d234b2ca29"
      },
      "execution_count": null,
      "outputs": [
        {
          "output_type": "execute_result",
          "data": {
            "text/plain": [
              "64"
            ]
          },
          "metadata": {},
          "execution_count": 11
        }
      ]
    },
    {
      "cell_type": "markdown",
      "source": [
        "##Modulo Operator:-"
      ],
      "metadata": {
        "id": "V52aOovVrxa8"
      }
    },
    {
      "cell_type": "code",
      "source": [
        "123%2  #Modulo Operator will give you Reminder"
      ],
      "metadata": {
        "colab": {
          "base_uri": "https://localhost:8080/"
        },
        "id": "DhHGGLgwrbpj",
        "outputId": "7fab89b2-d1cd-4692-9bcb-44381e80b188"
      },
      "execution_count": null,
      "outputs": [
        {
          "output_type": "execute_result",
          "data": {
            "text/plain": [
              "1"
            ]
          },
          "metadata": {},
          "execution_count": 13
        }
      ]
    },
    {
      "cell_type": "code",
      "source": [
        "122%2"
      ],
      "metadata": {
        "colab": {
          "base_uri": "https://localhost:8080/"
        },
        "id": "XHLVueuVrl3k",
        "outputId": "1661a472-e946-448a-af1d-c013576e62c0"
      },
      "execution_count": null,
      "outputs": [
        {
          "output_type": "execute_result",
          "data": {
            "text/plain": [
              "0"
            ]
          },
          "metadata": {},
          "execution_count": 14
        }
      ]
    },
    {
      "cell_type": "markdown",
      "source": [
        "##Data Types:-"
      ],
      "metadata": {
        "id": "93r8S8kltqSM"
      }
    },
    {
      "cell_type": "markdown",
      "source": [
        "###1. Integers:- No Decimal Value is there"
      ],
      "metadata": {
        "id": "4nxO4Delt9nD"
      }
    },
    {
      "cell_type": "code",
      "source": [
        "a = 6\n",
        "type(a)"
      ],
      "metadata": {
        "colab": {
          "base_uri": "https://localhost:8080/"
        },
        "id": "H33Qul5isCez",
        "outputId": "de9c190c-a7fb-4e92-89c5-a9da6ca16924"
      },
      "execution_count": null,
      "outputs": [
        {
          "output_type": "execute_result",
          "data": {
            "text/plain": [
              "int"
            ]
          },
          "metadata": {},
          "execution_count": 15
        }
      ]
    },
    {
      "cell_type": "code",
      "source": [
        "a = 879\n",
        "type(a)"
      ],
      "metadata": {
        "colab": {
          "base_uri": "https://localhost:8080/"
        },
        "id": "X-FHzeEGuLL8",
        "outputId": "1a533020-ce2f-4aee-dacd-92e2c45954e1"
      },
      "execution_count": null,
      "outputs": [
        {
          "output_type": "execute_result",
          "data": {
            "text/plain": [
              "int"
            ]
          },
          "metadata": {},
          "execution_count": 16
        }
      ]
    },
    {
      "cell_type": "markdown",
      "source": [
        "###2. Floats:- Numbers containing Decimal Numbers"
      ],
      "metadata": {
        "id": "4AYzBMz2ufEj"
      }
    },
    {
      "cell_type": "code",
      "source": [
        "pi = 3.14\n",
        "type(pi)"
      ],
      "metadata": {
        "colab": {
          "base_uri": "https://localhost:8080/"
        },
        "id": "w5s5keCLuUqs",
        "outputId": "09a55f9b-1681-4904-fcc2-6490a604cda7"
      },
      "execution_count": null,
      "outputs": [
        {
          "output_type": "execute_result",
          "data": {
            "text/plain": [
              "float"
            ]
          },
          "metadata": {},
          "execution_count": 17
        }
      ]
    },
    {
      "cell_type": "code",
      "source": [
        "x = 2.5\n",
        "type(x)"
      ],
      "metadata": {
        "colab": {
          "base_uri": "https://localhost:8080/"
        },
        "id": "oGncBRHnyjSb",
        "outputId": "15cdc2b1-be67-4819-b26e-1053b0422dfa"
      },
      "execution_count": null,
      "outputs": [
        {
          "output_type": "execute_result",
          "data": {
            "text/plain": [
              "float"
            ]
          },
          "metadata": {},
          "execution_count": 18
        }
      ]
    },
    {
      "cell_type": "markdown",
      "source": [
        "###3. String Data Type:-"
      ],
      "metadata": {
        "id": "o-t8WEBIzGQr"
      }
    },
    {
      "cell_type": "code",
      "source": [
        "a = \"Dipanjan\"\n",
        "type(a)"
      ],
      "metadata": {
        "colab": {
          "base_uri": "https://localhost:8080/"
        },
        "id": "rhAdf5gIyrc7",
        "outputId": "3debe0db-6cd7-4cd1-c4cc-94542d308e09"
      },
      "execution_count": null,
      "outputs": [
        {
          "output_type": "execute_result",
          "data": {
            "text/plain": [
              "str"
            ]
          },
          "metadata": {},
          "execution_count": 20
        }
      ]
    },
    {
      "cell_type": "code",
      "source": [
        "print((a))"
      ],
      "metadata": {
        "colab": {
          "base_uri": "https://localhost:8080/"
        },
        "id": "jxPuPhdQzUib",
        "outputId": "660d08e6-a03a-4b97-91eb-014ea56082e2"
      },
      "execution_count": null,
      "outputs": [
        {
          "output_type": "stream",
          "name": "stdout",
          "text": [
            "Dipanjan\n"
          ]
        }
      ]
    },
    {
      "cell_type": "markdown",
      "source": [
        "###4. Boolean Data Type:-\n",
        "#### True, False"
      ],
      "metadata": {
        "id": "lIsCWkUxzrOj"
      }
    },
    {
      "cell_type": "code",
      "source": [
        "one = True\n",
        "two = False\n",
        "print(type(one))\n",
        "print(type(two))"
      ],
      "metadata": {
        "colab": {
          "base_uri": "https://localhost:8080/"
        },
        "id": "rn9CyUv0zY3D",
        "outputId": "1717fdfa-c907-4e4a-8272-3dc45884b985"
      },
      "execution_count": null,
      "outputs": [
        {
          "output_type": "stream",
          "name": "stdout",
          "text": [
            "<class 'bool'>\n",
            "<class 'bool'>\n"
          ]
        }
      ]
    },
    {
      "cell_type": "markdown",
      "source": [
        "##Strong Typing"
      ],
      "metadata": {
        "id": "0_w_WEn1z4j7"
      }
    },
    {
      "cell_type": "code",
      "source": [
        "\"Day\" + 1"
      ],
      "metadata": {
        "colab": {
          "base_uri": "https://localhost:8080/",
          "height": 166
        },
        "id": "OVnOadInz1Wd",
        "outputId": "d939f99c-9964-4525-93f1-e9760675afa9"
      },
      "execution_count": null,
      "outputs": [
        {
          "output_type": "error",
          "ename": "TypeError",
          "evalue": "ignored",
          "traceback": [
            "\u001b[0;31m---------------------------------------------------------------------------\u001b[0m",
            "\u001b[0;31mTypeError\u001b[0m                                 Traceback (most recent call last)",
            "\u001b[0;32m<ipython-input-22-d0dcd09775fb>\u001b[0m in \u001b[0;36m<module>\u001b[0;34m\u001b[0m\n\u001b[0;32m----> 1\u001b[0;31m \u001b[0;34m\"Day\"\u001b[0m \u001b[0;34m+\u001b[0m \u001b[0;36m1\u001b[0m\u001b[0;34m\u001b[0m\u001b[0;34m\u001b[0m\u001b[0m\n\u001b[0m",
            "\u001b[0;31mTypeError\u001b[0m: can only concatenate str (not \"int\") to str"
          ]
        }
      ]
    },
    {
      "cell_type": "code",
      "source": [
        "\"Day\" + \"1\"  #Allowed to add Same Data Type"
      ],
      "metadata": {
        "colab": {
          "base_uri": "https://localhost:8080/",
          "height": 35
        },
        "id": "6XjyivC00EgE",
        "outputId": "d776396e-04b5-41b2-b8ed-6d73ee3d6600"
      },
      "execution_count": null,
      "outputs": [
        {
          "output_type": "execute_result",
          "data": {
            "text/plain": [
              "'Day1'"
            ],
            "application/vnd.google.colaboratory.intrinsic+json": {
              "type": "string"
            }
          },
          "metadata": {},
          "execution_count": 23
        }
      ]
    },
    {
      "cell_type": "code",
      "source": [
        "22 + 22"
      ],
      "metadata": {
        "colab": {
          "base_uri": "https://localhost:8080/"
        },
        "id": "TOZiRkv30T6j",
        "outputId": "4719a450-2093-40eb-cf53-8855f4e12de2"
      },
      "execution_count": null,
      "outputs": [
        {
          "output_type": "execute_result",
          "data": {
            "text/plain": [
              "44"
            ]
          },
          "metadata": {},
          "execution_count": 24
        }
      ]
    },
    {
      "cell_type": "code",
      "source": [
        "\"22\" + \"22\"  #Concatenate"
      ],
      "metadata": {
        "colab": {
          "base_uri": "https://localhost:8080/",
          "height": 35
        },
        "id": "rrJKWHK50reL",
        "outputId": "086d5a91-ec5d-4518-b33a-4cb9c94e0e0b"
      },
      "execution_count": null,
      "outputs": [
        {
          "output_type": "execute_result",
          "data": {
            "text/plain": [
              "'2222'"
            ],
            "application/vnd.google.colaboratory.intrinsic+json": {
              "type": "string"
            }
          },
          "metadata": {},
          "execution_count": 25
        }
      ]
    },
    {
      "cell_type": "code",
      "source": [
        "'22' + \"22\"  # Both of them are Same Data Type"
      ],
      "metadata": {
        "colab": {
          "base_uri": "https://localhost:8080/",
          "height": 35
        },
        "id": "JQgdp8rP1WWV",
        "outputId": "eeda0de5-c17e-4b29-fa2f-b4a97f7cf486"
      },
      "execution_count": null,
      "outputs": [
        {
          "output_type": "execute_result",
          "data": {
            "text/plain": [
              "'2222'"
            ],
            "application/vnd.google.colaboratory.intrinsic+json": {
              "type": "string"
            }
          },
          "metadata": {},
          "execution_count": 30
        }
      ]
    },
    {
      "cell_type": "code",
      "source": [
        "\"22\" + 22"
      ],
      "metadata": {
        "colab": {
          "base_uri": "https://localhost:8080/",
          "height": 166
        },
        "id": "wwLvc2Zz0vJj",
        "outputId": "04fd26ae-72ba-484d-a78c-5545a753f29d"
      },
      "execution_count": null,
      "outputs": [
        {
          "output_type": "error",
          "ename": "TypeError",
          "evalue": "ignored",
          "traceback": [
            "\u001b[0;31m---------------------------------------------------------------------------\u001b[0m",
            "\u001b[0;31mTypeError\u001b[0m                                 Traceback (most recent call last)",
            "\u001b[0;32m<ipython-input-26-2e2b19d89d15>\u001b[0m in \u001b[0;36m<module>\u001b[0;34m\u001b[0m\n\u001b[0;32m----> 1\u001b[0;31m \u001b[0;34m\"22\"\u001b[0m \u001b[0;34m+\u001b[0m \u001b[0;36m22\u001b[0m\u001b[0;34m\u001b[0m\u001b[0;34m\u001b[0m\u001b[0m\n\u001b[0m",
            "\u001b[0;31mTypeError\u001b[0m: can only concatenate str (not \"int\") to str"
          ]
        }
      ]
    },
    {
      "cell_type": "code",
      "source": [
        "\"Dipanjan\" + \"Das\""
      ],
      "metadata": {
        "colab": {
          "base_uri": "https://localhost:8080/",
          "height": 35
        },
        "id": "9_xG-gYU1DDK",
        "outputId": "abf3d96c-faaf-40e0-8a76-e8c0b107d512"
      },
      "execution_count": null,
      "outputs": [
        {
          "output_type": "execute_result",
          "data": {
            "text/plain": [
              "'DipanjanDas'"
            ],
            "application/vnd.google.colaboratory.intrinsic+json": {
              "type": "string"
            }
          },
          "metadata": {},
          "execution_count": 27
        }
      ]
    },
    {
      "cell_type": "code",
      "source": [
        "\"Dipanjan\" + \" Das\""
      ],
      "metadata": {
        "colab": {
          "base_uri": "https://localhost:8080/",
          "height": 35
        },
        "id": "M5fmEIFb1IZ6",
        "outputId": "6906eaf2-38a0-4090-be3a-5710cd5296b1"
      },
      "execution_count": null,
      "outputs": [
        {
          "output_type": "execute_result",
          "data": {
            "text/plain": [
              "'Dipanjan Das'"
            ],
            "application/vnd.google.colaboratory.intrinsic+json": {
              "type": "string"
            }
          },
          "metadata": {},
          "execution_count": 29
        }
      ]
    },
    {
      "cell_type": "code",
      "source": [
        "22.2 + 1"
      ],
      "metadata": {
        "colab": {
          "base_uri": "https://localhost:8080/"
        },
        "id": "Yakl70vS1MzT",
        "outputId": "6e1b823b-e9ae-427c-f845-37bac9a4029f"
      },
      "execution_count": null,
      "outputs": [
        {
          "output_type": "execute_result",
          "data": {
            "text/plain": [
              "23.2"
            ]
          },
          "metadata": {},
          "execution_count": 31
        }
      ]
    },
    {
      "cell_type": "markdown",
      "source": [
        "##All Data Type Summary:-"
      ],
      "metadata": {
        "id": "lDU0fZAw1_8L"
      }
    },
    {
      "cell_type": "code",
      "source": [
        "a = 1  # Integer Data Type\n",
        "b = 1.2  # Float Data Type\n",
        "c = \"Dipanjan\"  # String Data Type\n",
        "d = 1 + 2j  # Complex Data Type\n",
        "e = True, False  #Boolean Data Type\n"
      ],
      "metadata": {
        "id": "e5pxU-jb1sNK"
      },
      "execution_count": null,
      "outputs": []
    },
    {
      "cell_type": "markdown",
      "source": [
        "##Formated String or f String:- To create a Place holder or Fill in the Blanks\n",
        "\n",
        "###(This is the Current Standard approach to use in Python)"
      ],
      "metadata": {
        "id": "8YxZkGC128jG"
      }
    },
    {
      "cell_type": "code",
      "source": [
        "language = \"Python\"\n",
        "print(f\"Welcome to the Class of {language} Language\")"
      ],
      "metadata": {
        "colab": {
          "base_uri": "https://localhost:8080/"
        },
        "id": "gsrvjMBJ3Nc7",
        "outputId": "dbf68b0d-6cd6-4b52-f722-00c926e86e58"
      },
      "execution_count": null,
      "outputs": [
        {
          "output_type": "stream",
          "name": "stdout",
          "text": [
            "Welcome to the Class of Python Language\n"
          ]
        }
      ]
    },
    {
      "cell_type": "markdown",
      "source": [
        "##Use of f String:-"
      ],
      "metadata": {
        "id": "j1eG_bps5BeS"
      }
    },
    {
      "cell_type": "code",
      "source": [
        "a = 22\n",
        "b = 34\n",
        "c = a + b\n",
        "print(f\"the Result Sum of 2 Numbers a: {a} and b: {b} is = {c}\")"
      ],
      "metadata": {
        "colab": {
          "base_uri": "https://localhost:8080/"
        },
        "id": "wjOt5Fgu3i02",
        "outputId": "b131a204-f575-4ce4-b419-b8b6155744e3"
      },
      "execution_count": null,
      "outputs": [
        {
          "output_type": "stream",
          "name": "stdout",
          "text": [
            "the Result Sum of 2 Numbers a: 22 and b: 34 is = 56\n"
          ]
        }
      ]
    },
    {
      "cell_type": "code",
      "source": [],
      "metadata": {
        "id": "-oRfrMQ55lJ7"
      },
      "execution_count": null,
      "outputs": []
    }
  ]
}